{
    "cells": [
        {
            "cell_type": "markdown",
            "metadata": {
                "collapsed": true
            },
            "source": "# The Battle of Neighborhoods (Week 1)"
        },
        {
            "cell_type": "markdown",
            "metadata": {},
            "source": "## Introduction/Business Problem"
        },
        {
            "cell_type": "markdown",
            "metadata": {},
            "source": "We will compare the two biggest cities in Spain: Madrid and Barcelona.<br>\nThe Business problem we want to address is to discover the neighborhoods that are similar between the two cities related to the category and number of venues that they have.<br>\nWe will cluster the neighborhoods using k-means and then will examine the clusters to find similarities between the two cities."
        },
        {
            "cell_type": "markdown",
            "metadata": {},
            "source": "## Data"
        },
        {
            "cell_type": "markdown",
            "metadata": {},
            "source": "We will get via Foursquare the different venues that exist for each of the neighbourhoods in the two cities.\n\nThe neighborhoods data we get via these Wikipedia links:\n\nhttps://es.wikipedia.org/wiki/Anexo:Barrios_administrativos_de_Madrid <br>\nhttps://es.wikipedia.org/wiki/Distritos_de_Barcelona\n\nAnd the geographical coordinates we get by using Nominatim.\n\n"
        },
        {
            "cell_type": "code",
            "execution_count": null,
            "metadata": {},
            "outputs": [],
            "source": ""
        }
    ],
    "metadata": {
        "kernelspec": {
            "display_name": "Python 3.6",
            "language": "python",
            "name": "python3"
        },
        "language_info": {
            "codemirror_mode": {
                "name": "ipython",
                "version": 3
            },
            "file_extension": ".py",
            "mimetype": "text/x-python",
            "name": "python",
            "nbconvert_exporter": "python",
            "pygments_lexer": "ipython3",
            "version": "3.6.9"
        }
    },
    "nbformat": 4,
    "nbformat_minor": 1
}